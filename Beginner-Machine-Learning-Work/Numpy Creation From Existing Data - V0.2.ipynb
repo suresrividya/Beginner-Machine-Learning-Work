{
 "cells": [
  {
   "cell_type": "markdown",
   "metadata": {},
   "source": [
    "# Numpy Creation From Existing Data:\n",
    "\n",
    "In previous chapter we have seen how to initialize numpy using various techniques. In this Numpy chapter we are going to see how to create numpy using existing data.<br/>\n",
    "Let's begin with numpy creation using list and tuple information.<br/> \n",
    "Numpy library has numpy.array() and np.asarray() functions. They take list/tuple as input and creates numpy array.\n",
    "From List and Tuple.\n",
    "### From List and Tuple:\n",
    "#### np.array():\n",
    "* Parameter: Object<br/>\n",
    "* Returns: ndarray "
   ]
  },
  {
   "cell_type": "markdown",
   "metadata": {},
   "source": [
    "First import numpy library as np using below import statement."
   ]
  },
  {
   "cell_type": "code",
   "execution_count": 3,
   "metadata": {
    "collapsed": true
   },
   "outputs": [],
   "source": [
    "import numpy as np"
   ]
  },
  {
   "cell_type": "markdown",
   "metadata": {},
   "source": [
    "Then, Create a list with some values and assign list to np.array() function.<br/>\n",
    "see below code:"
   ]
  },
  {
   "cell_type": "markdown",
   "metadata": {},
   "source": [
    "**Example 1: creating numpy using list**"
   ]
  },
  {
   "cell_type": "code",
   "execution_count": 5,
   "metadata": {
    "scrolled": true
   },
   "outputs": [
    {
     "data": {
      "text/plain": [
       "array([2, 3, 4, 4, 5, 1])"
      ]
     },
     "execution_count": 5,
     "metadata": {},
     "output_type": "execute_result"
    }
   ],
   "source": [
    "list_a = [2,3,4,4,5,1]\n",
    "np.array(list_a)"
   ]
  },
  {
   "cell_type": "markdown",
   "metadata": {},
   "source": [
    "In above example we have created numpy array with list data. In the next example we will create numpy array with tuple data."
   ]
  },
  {
   "cell_type": "markdown",
   "metadata": {},
   "source": [
    "** Example 2: creating numpy using tuple**"
   ]
  },
  {
   "cell_type": "code",
   "execution_count": 8,
   "metadata": {},
   "outputs": [
    {
     "data": {
      "text/plain": [
       "array([2, 3, 4, 4, 5, 1])"
      ]
     },
     "execution_count": 8,
     "metadata": {},
     "output_type": "execute_result"
    }
   ],
   "source": [
    "tuple_a = (2,3,4,4,5,1)\n",
    "np.array(tuple_a)"
   ]
  },
  {
   "cell_type": "markdown",
   "metadata": {},
   "source": [
    "In above examples np.array() has taken list or tuple data as input and converted it to array.<br/>\n",
    "In the next example we will see how to provide dtype information to function np.array()"
   ]
  },
  {
   "cell_type": "markdown",
   "metadata": {},
   "source": [
    "** Example 3: passing dtype as parameter to numpy array**"
   ]
  },
  {
   "cell_type": "code",
   "execution_count": 8,
   "metadata": {},
   "outputs": [
    {
     "data": {
      "text/plain": [
       "array([ 2.,  3.,  4.,  4.,  5.,  1.], dtype=float16)"
      ]
     },
     "execution_count": 8,
     "metadata": {},
     "output_type": "execute_result"
    }
   ],
   "source": [
    "np.array(list_a,dtype=np.float16)"
   ]
  },
  {
   "cell_type": "code",
   "execution_count": 17,
   "metadata": {},
   "outputs": [
    {
     "data": {
      "text/plain": [
       "array([ 2.,  3.,  4.,  4.,  5.,  1.], dtype=float16)"
      ]
     },
     "execution_count": 17,
     "metadata": {},
     "output_type": "execute_result"
    }
   ],
   "source": [
    "np.array(tuple_a,dtype=np.float16)"
   ]
  },
  {
   "cell_type": "markdown",
   "metadata": {},
   "source": [
    "If we don't specify the dtype it takes default dtype(int32).<br/>\n",
    "If you observe in Example 1 and Example 2  we didn't specify the dtype,In those cases np.array() function has taken default dtype int32.<br/>"
   ]
  },
  {
   "cell_type": "markdown",
   "metadata": {},
   "source": [
    "Till now we have seen all examples using numerical data. In the next example we will use string data.<br/>\n",
    "check below code:"
   ]
  },
  {
   "cell_type": "markdown",
   "metadata": {},
   "source": [
    "**Example 4: numpy array creation using list of string data**"
   ]
  },
  {
   "cell_type": "code",
   "execution_count": 12,
   "metadata": {},
   "outputs": [
    {
     "data": {
      "text/plain": [
       "array(['hello', 'world', 'friends'],\n",
       "      dtype='<U7')"
      ]
     },
     "execution_count": 12,
     "metadata": {},
     "output_type": "execute_result"
    }
   ],
   "source": [
    "np.array(['hello','world','friends'])"
   ]
  },
  {
   "cell_type": "code",
   "execution_count": 14,
   "metadata": {},
   "outputs": [
    {
     "data": {
      "text/plain": [
       "array(['hello', 'world', 'friends'],\n",
       "      dtype='<U7')"
      ]
     },
     "execution_count": 14,
     "metadata": {},
     "output_type": "execute_result"
    }
   ],
   "source": [
    "np.array(('hello','world','friends'))"
   ]
  },
  {
   "cell_type": "markdown",
   "metadata": {},
   "source": [
    "In above string array examples, size of each element is decided by the maximum size of word.<br/>\n",
    "Let's understand above sentence meaning using previous example. In above example longest word is 'friends' and its length(no. of chars) is 7.<br/> np.array considered this length as limit for each string in the np.array."
   ]
  },
  {
   "cell_type": "markdown",
   "metadata": {},
   "source": [
    "Now we have undestanding of how to create numpy from list/tuple using np.array.<br/>\n",
    "Next we will use np.asarray to create numpy from list/tuple"
   ]
  },
  {
   "cell_type": "markdown",
   "metadata": {},
   "source": [
    "np.asarray() is works similar to np.array.<br/>\n",
    "But the main difference is that np.array will make a copy of the object(by default), while asarray will not unless necessary.<br/>\n",
    "It can be understood easily from the example mentioned in this link:<br/><div style = \"direction:rtl\"><a href=\"https://stackoverflow.com/questions/14415741/numpy-array-vs-asarray/41030256#41030256file\">Numpy - array vs asarray</a></div>"
   ]
  },
  {
   "cell_type": "markdown",
   "metadata": {},
   "source": [
    "#### np.asarray:\n",
    "* Parameters: lists, lists of tuples, tuples, tuples of tuples, tuples of lists and ndarrays.\n",
    "* Result: ndarray"
   ]
  },
  {
   "cell_type": "markdown",
   "metadata": {},
   "source": [
    "Like previous examples in below example also I am going to pass list and tuple information to np.asarray."
   ]
  },
  {
   "cell_type": "markdown",
   "metadata": {},
   "source": [
    "**Example 5: numpy creation using asarray**"
   ]
  },
  {
   "cell_type": "code",
   "execution_count": 28,
   "metadata": {},
   "outputs": [
    {
     "name": "stdout",
     "output_type": "stream",
     "text": [
      "using list:\n",
      " [2 3 4 4 5 1]\n",
      "using tuple:\n",
      " [2 3 4 4 5 1]\n"
     ]
    }
   ],
   "source": [
    "print('using list:\\n',np.asarray(a=list_a,dtype=int))\n",
    "print('using tuple:\\n',np.asarray(a=tuple_a,dtype=int))"
   ]
  },
  {
   "cell_type": "markdown",
   "metadata": {},
   "source": [
    "Let's pass a little more complex data (tuple of tuple) to np.asarray than before."
   ]
  },
  {
   "cell_type": "markdown",
   "metadata": {},
   "source": [
    "**Example 6: numpy creation using tuple of tuple data**"
   ]
  },
  {
   "cell_type": "code",
   "execution_count": 57,
   "metadata": {},
   "outputs": [
    {
     "data": {
      "text/plain": [
       "array([[ 1,  4,  6,  7],\n",
       "       [ 5,  8, 13, 14],\n",
       "       [ 0,  1,  5,  1]])"
      ]
     },
     "execution_count": 57,
     "metadata": {},
     "output_type": "execute_result"
    }
   ],
   "source": [
    "tuple_tuple = ((1,4,6,7),(5,8,13,14),(0,1,5,1))\n",
    "np.asarray(tuple_tuple)"
   ]
  },
  {
   "cell_type": "markdown",
   "metadata": {},
   "source": [
    "See above result it created array with tuple of tuple data considering each tuple as a row."
   ]
  },
  {
   "cell_type": "markdown",
   "metadata": {},
   "source": [
    "I hope at this point you have the idea how to create numpy array from list and tuple information."
   ]
  },
  {
   "cell_type": "markdown",
   "metadata": {},
   "source": [
    "Next we will understand how to create numpy using textfiles.<br/>\n",
    "Numpy Library provides functions np.loadtxt(), np.genfromtxt() to read data from text files."
   ]
  },
  {
   "cell_type": "markdown",
   "metadata": {},
   "source": [
    "### From file:\n",
    "#### np.loadtxt()\n",
    "* Parameters: file, str, pathlib.Path, list of str, generator\n",
    "* Result: ndarray"
   ]
  },
  {
   "cell_type": "markdown",
   "metadata": {},
   "source": [
    "np.loadtxt() loads data from a text file.<br/>\n",
    "Note that each row in the text file must have the same number of values."
   ]
  },
  {
   "cell_type": "markdown",
   "metadata": {},
   "source": [
    "See below example it has taken file name as input,then created a numpy from that data."
   ]
  },
  {
   "cell_type": "markdown",
   "metadata": {},
   "source": [
    "**Example 7: numpy creation from text file using loadtxt**"
   ]
  },
  {
   "cell_type": "code",
   "execution_count": 116,
   "metadata": {},
   "outputs": [
    {
     "data": {
      "text/plain": [
       "array([ 1.,  2.,  3.,  4.,  5.,  6.])"
      ]
     },
     "execution_count": 116,
     "metadata": {},
     "output_type": "execute_result"
    }
   ],
   "source": [
    "np.loadtxt('example1.txt')"
   ]
  },
  {
   "cell_type": "markdown",
   "metadata": {},
   "source": [
    "Before moving to other example I want to clear you that default dtype of np.loadtxt is float.<br/>\n",
    "Since my data file(example1.txt) is  having only float values,I didn't provided the dtype information.<br/>\n",
    "If you include other data types in  your data file please provide appropriate dtype info using dtype='dtype which satisfy your data requirement'."
   ]
  },
  {
   "cell_type": "markdown",
   "metadata": {},
   "source": [
    "Next Example illustrates how to pass dtype info and gives you an idea how to sepatrate values in text file using delimiter."
   ]
  },
  {
   "cell_type": "markdown",
   "metadata": {},
   "source": [
    "**Example 8:numpy creation from textfile which contains both string and numerical data using loadtxt**"
   ]
  },
  {
   "cell_type": "code",
   "execution_count": 137,
   "metadata": {},
   "outputs": [
    {
     "data": {
      "text/plain": [
       "array([['Name', ' Age', 'Sex '],\n",
       "       ['John', ' 23', ' M  '],\n",
       "       ['Ram', ' 30', ' M  '],\n",
       "       ['Ali', '29', ' M  '],\n",
       "       ['Seeta', ' 20', ' F '],\n",
       "       ['julia', ' 18', ' F '],\n",
       "       ['Shami', ' 35', ' F '],\n",
       "       ['End', ' End', ' End ']],\n",
       "      dtype='<U5')"
      ]
     },
     "execution_count": 137,
     "metadata": {},
     "output_type": "execute_result"
    }
   ],
   "source": [
    "np.loadtxt('example2.txt',dtype='U',delimiter=',')"
   ]
  },
  {
   "cell_type": "markdown",
   "metadata": {},
   "source": [
    "In above example, exmaple2.txt containing both numerical and text data, So I have prefered Unicode string as dtype."
   ]
  },
  {
   "cell_type": "markdown",
   "metadata": {},
   "source": [
    "Go through below examples to know how to skip comments,specified rows information and columns information.<br/>\n",
    "Output displayed in below line is the content available in my text file example3.txt<br/>"
   ]
  },
  {
   "cell_type": "markdown",
   "metadata": {},
   "source": [
    "**Example 9: numpy creation using loadtxt method with comments and skiprows arguments**"
   ]
  },
  {
   "cell_type": "code",
   "execution_count": 138,
   "metadata": {},
   "outputs": [
    {
     "data": {
      "text/plain": [
       "array([['Name', 'Age', 'Sex //this is header'],\n",
       "       ['Hpandey', '23', 'M  '],\n",
       "       ['KPandey', '30', 'M  '],\n",
       "       ['Dhoni', '29', 'M  '],\n",
       "       ['Virat', '20', 'F '],\n",
       "       ['mithaali', '18', 'F '],\n",
       "       ['Shami', '35', 'F '],\n",
       "       ['End', 'End', 'End // this is footer']],\n",
       "      dtype='<U34')"
      ]
     },
     "execution_count": 138,
     "metadata": {},
     "output_type": "execute_result"
    }
   ],
   "source": [
    "np.loadtxt('example3.txt',dtype='U34',delimiter=',')"
   ]
  },
  {
   "cell_type": "markdown",
   "metadata": {},
   "source": [
    "I have used comments argument in below example to skip the chars which appears after '//.<br/>\n",
    "By default np.loadtxt excludes text after '# if we don't provide value to comments argument.<br/>\n",
    "Skiprows is useful to ignore the unimportant rows in text file."
   ]
  },
  {
   "cell_type": "code",
   "execution_count": 140,
   "metadata": {},
   "outputs": [
    {
     "data": {
      "text/plain": [
       "array([['Dhoni', '29', 'M  '],\n",
       "       ['Virat', '20', 'F '],\n",
       "       ['mithaali', '18', 'F '],\n",
       "       ['Shami', '35', 'F '],\n",
       "       ['End', 'End', 'End ']],\n",
       "      dtype='<U34')"
      ]
     },
     "execution_count": 140,
     "metadata": {},
     "output_type": "execute_result"
    }
   ],
   "source": [
    "np.loadtxt('example3.txt',dtype='U34',delimiter=',',comments='//',skiprows=3)"
   ]
  },
  {
   "cell_type": "markdown",
   "metadata": {},
   "source": [
    "To get only important columns from text file use usecols argument. See below code to know how to pass columns information."
   ]
  },
  {
   "cell_type": "markdown",
   "metadata": {},
   "source": [
    "**Example 10: usage of numpy usecols param**"
   ]
  },
  {
   "cell_type": "code",
   "execution_count": 142,
   "metadata": {},
   "outputs": [
    {
     "data": {
      "text/plain": [
       "array([['Age', 'Sex '],\n",
       "       ['23', 'M  '],\n",
       "       ['30', 'M  '],\n",
       "       ['29', 'M  '],\n",
       "       ['20', 'F '],\n",
       "       ['18', 'F '],\n",
       "       ['35', 'F '],\n",
       "       ['End', 'End ']],\n",
       "      dtype='<U16')"
      ]
     },
     "execution_count": 142,
     "metadata": {},
     "output_type": "execute_result"
    }
   ],
   "source": [
    "np.loadtxt('example3.txt',dtype='U16',delimiter=',',comments='//',usecols=(1,2))"
   ]
  },
  {
   "cell_type": "markdown",
   "metadata": {},
   "source": [
    "Like np.loadtxt, np.genfromtxt also loads data from text files and archives((currently,it recognizes only gzip,bzip2).<br/>\n",
    "np.genfromtxt completes tasks in two main loops. First loop converts lines in text file to sequence of strings.<br/>\n",
    "The second one converts each string to the appropriate data type.<br/>                                                            Since it is using two loops to complete a task, it is relatively slower than single loop method.<br/>\n",
    "It is a flexible method to handle missing values.<br/>\n",
    "Note:np.loadtxt cann't handle missing values."
   ]
  },
  {
   "cell_type": "markdown",
   "metadata": {},
   "source": [
    "### np.genfromfile():\n",
    "* Parameters: file, str, pathlib.Path, list of str, generator\n",
    "* Result: ndarray"
   ]
  },
  {
   "cell_type": "markdown",
   "metadata": {
    "collapsed": true
   },
   "source": [
    "**Example 11: numpy creation using genfromtext method**"
   ]
  },
  {
   "cell_type": "code",
   "execution_count": 151,
   "metadata": {},
   "outputs": [
    {
     "data": {
      "text/plain": [
       "array([ 1.,  2.,  3.,  4.,  5.,  6.])"
      ]
     },
     "execution_count": 151,
     "metadata": {},
     "output_type": "execute_result"
    }
   ],
   "source": [
    "np.genfromtxt(fname='example1.txt')"
   ]
  },
  {
   "cell_type": "markdown",
   "metadata": {},
   "source": [
    "In np.genfromtxt If dtype is None, then dtypes will be determined by the contents of each column, individually."
   ]
  },
  {
   "cell_type": "markdown",
   "metadata": {},
   "source": [
    "**Example 12: numpy creation from textfile which contains both string and numerical data using genfromtxt**"
   ]
  },
  {
   "cell_type": "markdown",
   "metadata": {},
   "source": [
    "This is a similar example to example 8  which we have seen in np.loadtxt()."
   ]
  },
  {
   "cell_type": "code",
   "execution_count": 154,
   "metadata": {},
   "outputs": [
    {
     "data": {
      "text/plain": [
       "array([['Name', ' Age', 'Sex'],\n",
       "       ['John', ' 23', ' M'],\n",
       "       ['Ram', ' 30', ' M'],\n",
       "       ['Ali', '29', ' M'],\n",
       "       ['Seeta', ' 20', ' F'],\n",
       "       ['julia', ' 18', ' F'],\n",
       "       ['Shami', ' 35', ' F'],\n",
       "       ['End', ' End', ' End']],\n",
       "      dtype='<U16')"
      ]
     },
     "execution_count": 154,
     "metadata": {},
     "output_type": "execute_result"
    }
   ],
   "source": [
    "np.genfromtxt(fname='example2.txt',dtype='U16',delimiter=',')"
   ]
  },
  {
   "cell_type": "markdown",
   "metadata": {},
   "source": [
    "** Example 13: example to understand comments,skip_header,skip_footer of genfromtxt**"
   ]
  },
  {
   "cell_type": "markdown",
   "metadata": {},
   "source": [
    "This is a similar example to example 9 which we have seen in np.loadtxt()."
   ]
  },
  {
   "cell_type": "code",
   "execution_count": 105,
   "metadata": {},
   "outputs": [
    {
     "data": {
      "text/plain": [
       "array([['Name', 'Age', 'Sex //this is header'],\n",
       "       ['Hpandey', '23', 'M'],\n",
       "       ['KPandey', '30', 'M'],\n",
       "       ['Dhoni', '29', 'M'],\n",
       "       ['Virat', '20', 'F'],\n",
       "       ['mithaali', '18', 'F'],\n",
       "       ['Shami', '35', 'F'],\n",
       "       ['End', 'End', 'End // this is footer']],\n",
       "      dtype='<U34')"
      ]
     },
     "execution_count": 105,
     "metadata": {},
     "output_type": "execute_result"
    }
   ],
   "source": [
    "np.genfromtxt(fname='example3.txt',dtype='U34',delimiter=',')"
   ]
  },
  {
   "cell_type": "code",
   "execution_count": 146,
   "metadata": {},
   "outputs": [
    {
     "data": {
      "text/plain": [
       "array([['Hpandey', '23', 'M'],\n",
       "       ['KPandey', '30', 'M'],\n",
       "       ['Dhoni', '29', 'M'],\n",
       "       ['Virat', '20', 'F'],\n",
       "       ['mithaali', '18', 'F'],\n",
       "       ['Shami', '35', 'F']],\n",
       "      dtype='<U34')"
      ]
     },
     "execution_count": 146,
     "metadata": {},
     "output_type": "execute_result"
    }
   ],
   "source": [
    "np.genfromtxt(fname='example3.txt',dtype='U34',delimiter=',',skip_header=True,skip_footer=True,comments='//')"
   ]
  },
  {
   "cell_type": "markdown",
   "metadata": {},
   "source": [
    "In above example , genfromtxt skipped header data(Name,Age,Sex) and footer data(End,End,End) using skip_header and skip_footer arguments respectively.\n",
    "Observe  above output it removed comment as well."
   ]
  },
  {
   "cell_type": "markdown",
   "metadata": {},
   "source": [
    "** Example 14: genfromtxt missing values handling**"
   ]
  },
  {
   "cell_type": "markdown",
   "metadata": {},
   "source": [
    "While introducing np.genfromtext I have mentioned that genfromtxt is capable of handling missing values.<br/>\n",
    "See below example output, it has replaced missing values with nan."
   ]
  },
  {
   "cell_type": "code",
   "execution_count": 178,
   "metadata": {},
   "outputs": [
    {
     "data": {
      "text/plain": [
       "array([[  1.,   2.,   3.,  nan,   5.],\n",
       "       [  6.,   7.,  nan,   9.,  10.],\n",
       "       [ 11.,  12.,  nan,  14.,  15.]])"
      ]
     },
     "execution_count": 178,
     "metadata": {},
     "output_type": "execute_result"
    }
   ],
   "source": [
    "np.genfromtxt(fname='example4.txt',delimiter=',')"
   ]
  },
  {
   "cell_type": "markdown",
   "metadata": {},
   "source": [
    "As mentioed, np.genromtxt is flexible to deal with missing data.It has an argument filling_values, with help of filling_values argument we can set default value to missing values."
   ]
  },
  {
   "cell_type": "markdown",
   "metadata": {},
   "source": [
    "Go through below lines to see how it assinged 0 to nan."
   ]
  },
  {
   "cell_type": "code",
   "execution_count": 181,
   "metadata": {},
   "outputs": [
    {
     "data": {
      "text/plain": [
       "array([[  1.,   2.,   3.,   0.,   5.],\n",
       "       [  6.,   7.,   0.,   9.,  10.],\n",
       "       [ 11.,  12.,   0.,  14.,  15.]])"
      ]
     },
     "execution_count": 181,
     "metadata": {},
     "output_type": "execute_result"
    }
   ],
   "source": [
    "default_data = '0'\n",
    "np.genfromtxt(fname='example4.txt',delimiter=',',filling_values=default_data)"
   ]
  },
  {
   "cell_type": "markdown",
   "metadata": {},
   "source": [
    "**Example 15: numpy creation from byte stream**"
   ]
  },
  {
   "cell_type": "markdown",
   "metadata": {},
   "source": [
    "Below example gives you an idea on how to create byte stream for given string."
   ]
  },
  {
   "cell_type": "code",
   "execution_count": 189,
   "metadata": {},
   "outputs": [
    {
     "data": {
      "text/plain": [
       "array([[ 1.,  1.,  1.],\n",
       "       [ 1.,  1.,  1.]])"
      ]
     },
     "execution_count": 189,
     "metadata": {},
     "output_type": "execute_result"
    }
   ],
   "source": [
    "from io import BytesIO\n",
    "data = BytesIO(\"1,1,1\\n1,1,1\".encode('utf8'))\n",
    "np.genfromtxt(data,delimiter=',')"
   ]
  },
  {
   "cell_type": "markdown",
   "metadata": {
    "collapsed": true
   },
   "source": [
    "Here,First we have imported the BytesIO from io.<br/>\n",
    "Then created an byte stream using ByteIO function.<br/>\n",
    "Finally, Passed the byte stream to np.gefromtext.<br/>\n",
    "Note that generators must return byte strings in Python 3k."
   ]
  },
  {
   "cell_type": "markdown",
   "metadata": {},
   "source": [
    "### Summary:\n",
    "In this chanpter we have seen numpy creation using np.array, np.asarray, np.loadtxt,np.genfromtxt functions.<br/>\n",
    "In the next chanpter we will learn about numpy functions and methods."
   ]
  }
 ],
 "metadata": {
  "kernelspec": {
   "display_name": "Python 3",
   "language": "python",
   "name": "python3"
  },
  "language_info": {
   "codemirror_mode": {
    "name": "ipython",
    "version": 3
   },
   "file_extension": ".py",
   "mimetype": "text/x-python",
   "name": "python",
   "nbconvert_exporter": "python",
   "pygments_lexer": "ipython3",
   "version": "3.6.3"
  }
 },
 "nbformat": 4,
 "nbformat_minor": 2
}
