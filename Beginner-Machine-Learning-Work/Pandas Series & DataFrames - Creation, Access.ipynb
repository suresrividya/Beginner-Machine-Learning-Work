{
 "cells": [
  {
   "cell_type": "markdown",
   "metadata": {},
   "source": [
    "# Angenda:\n",
    "* Intruducton to Pandas.\n",
    "* Pandas Series Creation.\n",
    "* Pandas Series Accessing Elements.\n",
    "* Pandas DataFrame Creation.\n",
    "* Pandas DataFrame Accessing Elements."
   ]
  },
  {
   "cell_type": "markdown",
   "metadata": {},
   "source": [
    "Introduction:"
   ]
  },
  {
   "cell_type": "markdown",
   "metadata": {},
   "source": [
    "## Pandas Series Creation:\n",
    "* It is a 1D Numpy array with indexed column.\n",
    "* The object supports both Integer and label-b  indexing.\n",
    "* Provides a host of methods for performing operations involving the index."
   ]
  }
 ],
 "metadata": {
  "kernelspec": {
   "display_name": "Python 3",
   "language": "python",
   "name": "python3"
  },
  "language_info": {
   "codemirror_mode": {
    "name": "ipython",
    "version": 3
   },
   "file_extension": ".py",
   "mimetype": "text/x-python",
   "name": "python",
   "nbconvert_exporter": "python",
   "pygments_lexer": "ipython3",
   "version": "3.6.3"
  }
 },
 "nbformat": 4,
 "nbformat_minor": 2
}
