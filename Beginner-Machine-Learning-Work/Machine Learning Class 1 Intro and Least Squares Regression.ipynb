{
 "cells": [
  {
   "cell_type": "markdown",
   "metadata": {},
   "source": [
    "# Linear Regression Implementaton From Scratch:"
   ]
  },
  {
   "cell_type": "code",
   "execution_count": 47,
   "metadata": {
    "collapsed": true
   },
   "outputs": [],
   "source": [
    "# Import Libraries\n",
    "import numpy as np\n",
    "import matplotlib.pyplot as plt\n",
    "%matplotlib inline"
   ]
  },
  {
   "cell_type": "code",
   "execution_count": 161,
   "metadata": {
    "collapsed": true
   },
   "outputs": [],
   "source": [
    "def Linear_Regression(X_train,y_train):\n",
    "    #Find Slope and Intercept of a Line\n",
    "    # Cov(x,y)/var(x)\n",
    "    # b = (n * sum(xy) - sum(x)* sum(xy)) / n* sum(x**2)- (sum(x))**2\n",
    "    n = X_train.shape[0]\n",
    "    # usning calculas\n",
    "    b = ((n * np.sum((X_train * y_train)) )-(np.sum(X_train)*np.sum(X_train*y_train)))/((n*np.sum(X_train**2)-np.sum(X_train)**2))\n",
    "    a = np.mean(y_train)-b*np.mean(X_train)\n",
    "    \n",
    "    return a,b"
   ]
  },
  {
   "cell_type": "code",
   "execution_count": 204,
   "metadata": {
    "collapsed": true
   },
   "outputs": [],
   "source": [
    "#Find Coefficients using statistics\n",
    "def estimate_coef(X_train, y_train):\n",
    "    # number of observations/points\n",
    "    n = X_train.shape[0]\n",
    "    print('n value:',n)\n",
    "    # mean of x and y vector\n",
    "    m_x, m_y = np.mean(X_train), np.mean(y_train)\n",
    "    print('mean values:',m_x,m_y)\n",
    "    # calculating cross-deviation and deviation about x\n",
    "    SS_xy = (np.sum(y_train*X_train)/n)-m_y*m_x\n",
    "    SS_xx = (np.sum(X_train*X_train)/n)-m_x*m_x\n",
    "    print('SS_xy,SS_xx',SS_xy,SS_xx)\n",
    "    # calculating regression coefficients\n",
    "    b = SS_xy/SS_xx\n",
    "    a = m_y-b*m_x\n",
    "\n",
    "    return a,b"
   ]
  },
  {
   "cell_type": "code",
   "execution_count": 89,
   "metadata": {
    "collapsed": true
   },
   "outputs": [],
   "source": [
    "def Linear_Regression_Predict(a,b,X_test):\n",
    "        return a+b*X_test"
   ]
  },
  {
   "cell_type": "code",
   "execution_count": 55,
   "metadata": {
    "collapsed": true
   },
   "outputs": [],
   "source": [
    "# Data\n",
    "np.random.seed()\n",
    "X = np.random.randn(1,10,100)\n",
    "y = 2*X+10"
   ]
  },
  {
   "cell_type": "code",
   "execution_count": 57,
   "metadata": {},
   "outputs": [
    {
     "data": {
      "text/plain": [
       "(1000, 1)"
      ]
     },
     "execution_count": 57,
     "metadata": {},
     "output_type": "execute_result"
    }
   ],
   "source": [
    "# Vector Space of X\n",
    "X = X.reshape(-1,1)\n",
    "X.shape"
   ]
  },
  {
   "cell_type": "code",
   "execution_count": 59,
   "metadata": {},
   "outputs": [
    {
     "data": {
      "text/plain": [
       "(1000, 1)"
      ]
     },
     "execution_count": 59,
     "metadata": {},
     "output_type": "execute_result"
    }
   ],
   "source": [
    "#vector space y\n",
    "y = y.reshape(-1,1)\n",
    "y.shape"
   ]
  },
  {
   "cell_type": "code",
   "execution_count": 60,
   "metadata": {
    "collapsed": true
   },
   "outputs": [],
   "source": [
    "\n",
    "#Training Data for Model\n",
    "X_train = X[:-10]\n",
    "y_train = y[:-10]"
   ]
  },
  {
   "cell_type": "code",
   "execution_count": 61,
   "metadata": {
    "collapsed": true
   },
   "outputs": [],
   "source": [
    "#testing Data for Model\n",
    "X_test = X[990:]\n",
    "y_test = y[990:]"
   ]
  },
  {
   "cell_type": "code",
   "execution_count": 62,
   "metadata": {
    "scrolled": true
   },
   "outputs": [
    {
     "data": {
      "text/plain": [
       "<matplotlib.collections.PathCollection at 0x22e7f2236a0>"
      ]
     },
     "execution_count": 62,
     "metadata": {},
     "output_type": "execute_result"
    },
    {
     "data": {
      "image/png": "[encoded data removed]",
      "text/plain": [
       "<matplotlib.figure.Figure at 0x22e7f03f518>"
      ]
     },
     "metadata": {},
     "output_type": "display_data"
    }
   ],
   "source": [
    "# Distribution of Training Data\n",
    "plt.scatter(X_train,y_train)"
   ]
  },
  {
   "cell_type": "code",
   "execution_count": 90,
   "metadata": {
    "collapsed": true
   },
   "outputs": [],
   "source": [
    "#To find  Regression Coefficients\n",
    "#a = Intercept b=slop\n",
    "a,b = Linear_Regression(X_train,y_train)\n"
   ]
  },
  {
   "cell_type": "code",
   "execution_count": 91,
   "metadata": {},
   "outputs": [
    {
     "name": "stdout",
     "output_type": "stream",
     "text": [
      "9.99530221599 1.79550919811\n"
     ]
    }
   ],
   "source": [
    "print(a,b)"
   ]
  },
  {
   "cell_type": "code",
   "execution_count": 207,
   "metadata": {
    "collapsed": true
   },
   "outputs": [],
   "source": [
    "y_pred = Linear_Regression_Predict(a,b,X_test)"
   ]
  },
  {
   "cell_type": "code",
   "execution_count": 208,
   "metadata": {
    "collapsed": true
   },
   "outputs": [],
   "source": [
    "y_pred = Linear_Regression_Predict(a,b,X_test)"
   ]
  },
  {
   "cell_type": "code",
   "execution_count": 209,
   "metadata": {},
   "outputs": [
    {
     "data": {
      "text/plain": [
       "array([[  9.49061815],\n",
       "       [ 12.72817483],\n",
       "       [ 10.98380523],\n",
       "       [  9.3516039 ],\n",
       "       [ 11.79615907],\n",
       "       [ 13.3812599 ],\n",
       "       [  8.90137042],\n",
       "       [ 12.78542997],\n",
       "       [  9.5718305 ],\n",
       "       [ 10.1664383 ]])"
      ]
     },
     "execution_count": 209,
     "metadata": {},
     "output_type": "execute_result"
    }
   ],
   "source": [
    "y_pred"
   ]
  },
  {
   "cell_type": "code",
   "execution_count": 96,
   "metadata": {},
   "outputs": [
    {
     "data": {
      "text/plain": [
       "array([[  9.49061815],\n",
       "       [ 12.72817483],\n",
       "       [ 10.98380523],\n",
       "       [  9.3516039 ],\n",
       "       [ 11.79615907],\n",
       "       [ 13.3812599 ],\n",
       "       [  8.90137042],\n",
       "       [ 12.78542997],\n",
       "       [  9.5718305 ],\n",
       "       [ 10.1664383 ]])"
      ]
     },
     "execution_count": 96,
     "metadata": {},
     "output_type": "execute_result"
    }
   ],
   "source": [
    "y_test"
   ]
  },
  {
   "cell_type": "code",
   "execution_count": 120,
   "metadata": {},
   "outputs": [
    {
     "data": {
      "text/plain": [
       "<matplotlib.legend.Legend at 0x22e7fe5cd68>"
      ]
     },
     "execution_count": 120,
     "metadata": {},
     "output_type": "execute_result"
    },
    {
     "data": {
      "image/png": "[encoded data removed]",
      "text/plain": [
       "<matplotlib.figure.Figure at 0x22e7fb507b8>"
      ]
     },
     "metadata": {},
     "output_type": "display_data"
    }
   ],
   "source": [
    "plt.scatter(X_train,y_train,c='y',label='Train')\n",
    "plt.plot(X_test,y_pred,c='r',label='Pred')\n",
    "plt.plot(X_test,y_test,c='g',label='True')\n",
    "plt.legend()"
   ]
  },
  {
   "cell_type": "code",
   "execution_count": 124,
   "metadata": {
    "collapsed": true
   },
   "outputs": [],
   "source": [
    "Error = np.sum((y_test-y_pred)**2)"
   ]
  },
  {
   "cell_type": "code",
   "execution_count": 150,
   "metadata": {},
   "outputs": [
    {
     "name": "stdout",
     "output_type": "stream",
     "text": [
      "0.594335040202\n"
     ]
    }
   ],
   "source": [
    "print(np.sqrt(Error))"
   ]
  },
  {
   "cell_type": "code",
   "execution_count": 129,
   "metadata": {
    "collapsed": true
   },
   "outputs": [],
   "source": [
    "#using scikit\n",
    "from sklearn.linear_model import LinearRegression"
   ]
  },
  {
   "cell_type": "code",
   "execution_count": 130,
   "metadata": {
    "collapsed": true
   },
   "outputs": [],
   "source": [
    "lr = LinearRegression()"
   ]
  },
  {
   "cell_type": "code",
   "execution_count": 136,
   "metadata": {},
   "outputs": [
    {
     "data": {
      "text/plain": [
       "LinearRegression(copy_X=True, fit_intercept=True, n_jobs=1, normalize=False)"
      ]
     },
     "execution_count": 136,
     "metadata": {},
     "output_type": "execute_result"
    }
   ],
   "source": [
    "lr.fit(X_train,y_train)"
   ]
  },
  {
   "cell_type": "code",
   "execution_count": 156,
   "metadata": {
    "collapsed": true
   },
   "outputs": [],
   "source": [
    "y_pred_scikit = lr.predict(X_test)"
   ]
  },
  {
   "cell_type": "code",
   "execution_count": 158,
   "metadata": {},
   "outputs": [
    {
     "data": {
      "text/plain": [
       "[<matplotlib.lines.Line2D at 0x22e02e60358>]"
      ]
     },
     "execution_count": 158,
     "metadata": {},
     "output_type": "execute_result"
    },
    {
     "data": {
      "image/png": "[encoded data removed]",
      "text/plain": [
       "<matplotlib.figure.Figure at 0x22e02e602e8>"
      ]
     },
     "metadata": {},
     "output_type": "display_data"
    }
   ],
   "source": [
    "plt.scatter(X_train,y_train)\n",
    "plt.plot(X_test,y_pred_scikit,c='r')"
   ]
  },
  {
   "cell_type": "code",
   "execution_count": 153,
   "metadata": {
    "scrolled": false
   },
   "outputs": [
    {
     "name": "stdout",
     "output_type": "stream",
     "text": [
      "[[  9.49061815]\n",
      " [ 12.72817483]\n",
      " [ 10.98380523]\n",
      " [  9.3516039 ]\n",
      " [ 11.79615907]\n",
      " [ 13.3812599 ]\n",
      " [  8.90137042]\n",
      " [ 12.78542997]\n",
      " [  9.5718305 ]\n",
      " [ 10.1664383 ]]\n"
     ]
    }
   ],
   "source": [
    "print(y_pred_scikit)"
   ]
  },
  {
   "cell_type": "code",
   "execution_count": 155,
   "metadata": {},
   "outputs": [
    {
     "data": {
      "text/plain": [
       "array([[  9.49061815],\n",
       "       [ 12.72817483],\n",
       "       [ 10.98380523],\n",
       "       [  9.3516039 ],\n",
       "       [ 11.79615907],\n",
       "       [ 13.3812599 ],\n",
       "       [  8.90137042],\n",
       "       [ 12.78542997],\n",
       "       [  9.5718305 ],\n",
       "       [ 10.1664383 ]])"
      ]
     },
     "execution_count": 155,
     "metadata": {},
     "output_type": "execute_result"
    }
   ],
   "source": [
    "y_test"
   ]
  },
  {
   "cell_type": "code",
   "execution_count": 151,
   "metadata": {
    "collapsed": true,
    "scrolled": true
   },
   "outputs": [],
   "source": [
    "Error_scikit = np.sum((y_test-y_pred_scikit)**2)"
   ]
  },
  {
   "cell_type": "code",
   "execution_count": 159,
   "metadata": {},
   "outputs": [
    {
     "name": "stdout",
     "output_type": "stream",
     "text": [
      "5.89150913007e-15\n"
     ]
    }
   ],
   "source": [
    "print(np.sqrt(Error_scikit))"
   ]
  },
  {
   "cell_type": "code",
   "execution_count": 205,
   "metadata": {},
   "outputs": [
    {
     "name": "stdout",
     "output_type": "stream",
     "text": [
      "n value: 990\n",
      "mean values: -0.022973082243 9.95405383551\n",
      "SS_xy,SS_xx 1.86816409106 0.934082045528\n"
     ]
    }
   ],
   "source": [
    "a,b = estimate_coef(X_train,y_train)"
   ]
  },
  {
   "cell_type": "code",
   "execution_count": 210,
   "metadata": {},
   "outputs": [
    {
     "name": "stdout",
     "output_type": "stream",
     "text": [
      "10.0 2.0\n"
     ]
    }
   ],
   "source": [
    "print(a,b)\n"
   ]
  },
  {
   "cell_type": "code",
   "execution_count": 216,
   "metadata": {
    "collapsed": true
   },
   "outputs": [],
   "source": [
    "y_pred_stats = Linear_Regression_Predict(a,b,X_test)"
   ]
  },
  {
   "cell_type": "code",
   "execution_count": 217,
   "metadata": {},
   "outputs": [
    {
     "data": {
      "text/plain": [
       "array([[  9.49061815],\n",
       "       [ 12.72817483],\n",
       "       [ 10.98380523],\n",
       "       [  9.3516039 ],\n",
       "       [ 11.79615907],\n",
       "       [ 13.3812599 ],\n",
       "       [  8.90137042],\n",
       "       [ 12.78542997],\n",
       "       [  9.5718305 ],\n",
       "       [ 10.1664383 ]])"
      ]
     },
     "execution_count": 217,
     "metadata": {},
     "output_type": "execute_result"
    }
   ],
   "source": [
    "y_pred_stats"
   ]
  },
  {
   "cell_type": "code",
   "execution_count": 220,
   "metadata": {},
   "outputs": [
    {
     "data": {
      "text/plain": [
       "[<matplotlib.lines.Line2D at 0x22e02b61fd0>]"
      ]
     },
     "execution_count": 220,
     "metadata": {},
     "output_type": "execute_result"
    },
    {
     "data": {
      "image/png": "[encoded data removed]",
      "text/plain": [
       "<matplotlib.figure.Figure at 0x22e7fcbfb70>"
      ]
     },
     "metadata": {},
     "output_type": "display_data"
    }
   ],
   "source": [
    "plt.scatter(X_train,y_train)\n",
    "plt.plot(X_test,y_pred_stats,c='r')"
   ]
  },
  {
   "cell_type": "code",
   "execution_count": 259,
   "metadata": {
    "collapsed": true
   },
   "outputs": [],
   "source": [
    "# Fiind Regression Line using Linear Algebra\n",
    "A = X_train"
   ]
  },
  {
   "cell_type": "code",
   "execution_count": 260,
   "metadata": {
    "collapsed": true
   },
   "outputs": [],
   "source": [
    "b = y_train"
   ]
  },
  {
   "cell_type": "code",
   "execution_count": 263,
   "metadata": {
    "collapsed": true
   },
   "outputs": [],
   "source": [
    "\n",
    "l = np.dot(A.T, A)\n",
    "r = np.dot(A.T, b)\n",
    "\n",
    "slope = np.dot(np.linalg.inv(l), r)"
   ]
  },
  {
   "cell_type": "code",
   "execution_count": 264,
   "metadata": {},
   "outputs": [
    {
     "name": "stdout",
     "output_type": "stream",
     "text": [
      "[[ 1.75419601]]\n"
     ]
    }
   ],
   "source": [
    "print(slope)"
   ]
  }
 ],
 "metadata": {
  "kernelspec": {
   "display_name": "Python 3",
   "language": "python",
   "name": "python3"
  },
  "language_info": {
   "codemirror_mode": {
    "name": "ipython",
    "version": 3
   },
   "file_extension": ".py",
   "mimetype": "text/x-python",
   "name": "python",
   "nbconvert_exporter": "python",
   "pygments_lexer": "ipython3",
   "version": "3.6.3"
  }
 },
 "nbformat": 4,
 "nbformat_minor": 2
}
